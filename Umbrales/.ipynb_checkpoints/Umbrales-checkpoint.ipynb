{
 "cells": [
  {
   "cell_type": "markdown",
   "metadata": {},
   "source": [
    "# Análisis de Umbrales de variables numéricas"
   ]
  },
  {
   "cell_type": "markdown",
   "metadata": {},
   "source": [
    "## Redflag: Requisito de boleta de garantía irrazonable"
   ]
  },
  {
   "cell_type": "markdown",
   "metadata": {},
   "source": [
    "#### Seriedad de oferta"
   ]
  },
  {
   "cell_type": "code",
   "execution_count": 2,
   "metadata": {},
   "outputs": [],
   "source": [
    "#Imports necesarios\n",
    "import pyodbc #odbc para sqlserver\n",
    "import time #librería necesaria para medir el tiempo de ejecución \n",
    "import datetime\n",
    "import pandas as pd\n",
    "import numpy as np\n",
    "from functools import reduce\n",
    "import os\n",
    "\n",
    "user = os.environ['chcprocuser']\n",
    "passw = os.environ['chcprocpass']\n",
    "server = os.environ['chcprocserver']\n",
    "db = os.environ['chcprocdb']\n",
    "\n",
    "# Inicio del \"cronómetro\"\n",
    "tInicio = time.time()\n",
    "\n",
    "# Apertura la conexión a SQL SERVER\n",
    "cnxn = pyodbc.connect('DRIVER={ODBC Driver 17 for SQL Server};SERVER='+server+';DATABASE='+db+';UID='+user+';PWD='+passw)\n",
    "\n",
    "# primero la seriedad de oferta\n",
    "sqlSO = '''SELECT a.rbhCode,  \n",
    "CASE b.rgaAmountType \n",
    "WHEN '1' THEN b.rgaAmount\n",
    "WHEN '0' THEN (Case when a.rbhEstimatedAwardAmount=0 then null else b.rgaAmount/a.rbhEstimatedAwardAmount*100 end)\n",
    "ELSE 0\n",
    "END as porctSerOfer\n",
    "FROM DCCPProcurement.dbo.prcRFBHeader a\n",
    "LEFT JOIN DCCPProcurement.dbo.prcRFBGuarantee b ON a.rbhCode = b.rgaRFBCode\n",
    "LEFT JOIN DCCPProcurement.dbo.prcRFBDate c on a.rbhCode = c.rbdRFBCode\n",
    "WHERE YEAR(c.rbdOpeningDate) > 2013\n",
    "AND YEAR(c.rbdOpeningDate) < 2020\n",
    "AND a.rbhOwnerName != 'Dirección de Compras y Contratación  Pública' \n",
    "AND a.rbhProcessSubType in (1, 2, 3, 23, 24, 25,  30) \n",
    "AND a.rbhDocumentStatus in (8,9,10, 7, 15, 16)\n",
    "AND a.rbhProcessType = 1\n",
    "AND b.rgaGuaranteeType = 1\n",
    "AND b.rgaIsBasis = 1\n",
    "ORDER by b.rgaAmount '''\n",
    "\n",
    "garSO = pd.read_sql(sqlSO,cnxn)\n",
    "\n",
    "# Cerramos la conexión\n",
    "cnxn.close()"
   ]
  },
  {
   "cell_type": "code",
   "execution_count": 25,
   "metadata": {},
   "outputs": [
    {
     "data": {
      "text/plain": [
       "<matplotlib.axes._subplots.AxesSubplot at 0x1cab5d69208>"
      ]
     },
     "execution_count": 25,
     "metadata": {},
     "output_type": "execute_result"
    },
    {
     "data": {
      "image/png": "[encoded data removed]",
      "text/plain": [
       "<Figure size 432x288 with 1 Axes>"
      ]
     },
     "metadata": {
      "needs_background": "light"
     },
     "output_type": "display_data"
    }
   ],
   "source": [
    "garSO['porctSerOfer'].hist(bins = 100)"
   ]
  },
  {
   "cell_type": "code",
   "execution_count": 29,
   "metadata": {},
   "outputs": [
    {
     "name": "stdout",
     "output_type": "stream",
     "text": [
      "mean      2.084353e+06\n",
      "median    1.317454e+00\n",
      "max       1.000000e+10\n",
      "Name: porctSerOfer, dtype: float64\n",
      "163016\n"
     ]
    }
   ],
   "source": [
    "print(garSO['porctSerOfer'].agg(['mean', 'median', 'max']).astype(float))\n",
    "filtGarSO = garSO[garSO['porctSerOfer'] <= 100]\n",
    "print(len(filtGarSO))"
   ]
  },
  {
   "cell_type": "code",
   "execution_count": 23,
   "metadata": {},
   "outputs": [
    {
     "data": {
      "text/plain": [
       "<matplotlib.axes._subplots.AxesSubplot at 0x1caba2ecd88>"
      ]
     },
     "execution_count": 23,
     "metadata": {},
     "output_type": "execute_result"
    },
    {
     "data": {
      "image/png": "[encoded data removed]",
      "text/plain": [
       "<Figure size 432x288 with 1 Axes>"
      ]
     },
     "metadata": {
      "needs_background": "light"
     },
     "output_type": "display_data"
    }
   ],
   "source": [
    "filtGarSO['porctSerOfer'].hist(bins = 100)"
   ]
  },
  {
   "cell_type": "markdown",
   "metadata": {},
   "source": [
    "Como se aprecia en el gráfico superior, los datos muestran que un 5% que se recomienda en la [directiva 7](https://www.mercadopublico.cl/portal/mp2/descargables/Directiva_N_7_Garantias.pdf) de ChC"
   ]
  },
  {
   "cell_type": "markdown",
   "metadata": {},
   "source": [
    "#### Fiel cumplimiento"
   ]
  },
  {
   "cell_type": "code",
   "execution_count": 26,
   "metadata": {},
   "outputs": [],
   "source": [
    "# Apertura la conexión a SQL SERVER\n",
    "cnxn = pyodbc.connect('DRIVER={ODBC Driver 17 for SQL Server};SERVER='+server+';DATABASE='+db+';UID='+user+';PWD='+passw)\n",
    "\n",
    "# Envío de las querys y lectura de los resultados\n",
    "\n",
    "# luego la de fiel cumplimiento\n",
    "sqlFC = '''SELECT a.rbhCode,  \n",
    "CASE b.rgaAmountType \n",
    "WHEN '1' THEN b.rgaAmount\n",
    "WHEN '0' THEN (Case when a.rbhEstimatedAwardAmount=0 then null else b.rgaAmount/a.rbhEstimatedAwardAmount*100 end)\n",
    "ELSE 0\n",
    "END as porctFC\n",
    "FROM DCCPProcurement.dbo.prcRFBHeader a\n",
    "LEFT JOIN DCCPProcurement.dbo.prcRFBGuarantee b ON a.rbhCode = b.rgaRFBCode\n",
    "LEFT JOIN DCCPProcurement.dbo.prcRFBDate c on a.rbhCode = c.rbdRFBCode\n",
    "WHERE YEAR(c.rbdOpeningDate) > 2013\n",
    "AND YEAR(c.rbdOpeningDate) < 2020\n",
    "AND a.rbhOwnerName != 'Dirección de Compras y Contratación  Pública' \n",
    "AND a.rbhProcessSubType in (1, 2, 3, 23, 24, 25,  30) \n",
    "AND a.rbhDocumentStatus in (8,9,10, 7, 15, 16)\n",
    "AND a.rbhProcessType = 1\n",
    "AND b.rgaGuaranteeType = 2\n",
    "AND b.rgaIsBasis = 1\n",
    "ORDER by b.rgaAmount'''\n",
    "\n",
    "garFC = pd.read_sql(sqlFC,cnxn)\n",
    "\n",
    "# Cerramos la conexión\n",
    "cnxn.close()"
   ]
  },
  {
   "cell_type": "code",
   "execution_count": 28,
   "metadata": {},
   "outputs": [
    {
     "data": {
      "text/plain": [
       "<matplotlib.axes._subplots.AxesSubplot at 0x1cabb98c2c8>"
      ]
     },
     "execution_count": 28,
     "metadata": {},
     "output_type": "execute_result"
    },
    {
     "data": {
      "image/png": "[encoded data removed]",
      "text/plain": [
       "<Figure size 432x288 with 1 Axes>"
      ]
     },
     "metadata": {
      "needs_background": "light"
     },
     "output_type": "display_data"
    }
   ],
   "source": [
    "garFC['porctFC'].hist()"
   ]
  },
  {
   "cell_type": "code",
   "execution_count": 30,
   "metadata": {},
   "outputs": [
    {
     "name": "stdout",
     "output_type": "stream",
     "text": [
      "mean      2.837884e+06\n",
      "median    5.000000e+00\n",
      "max       1.000000e+11\n",
      "Name: porctFC, dtype: float64\n",
      "273084\n"
     ]
    }
   ],
   "source": [
    "print(garFC['porctFC'].agg(['mean', 'median', 'max']).astype(float))\n",
    "filtGarFC = garFC[garFC['porctFC'] <= 100]\n",
    "print(len(filtGarFC))"
   ]
  },
  {
   "cell_type": "code",
   "execution_count": 31,
   "metadata": {},
   "outputs": [
    {
     "data": {
      "text/plain": [
       "<matplotlib.axes._subplots.AxesSubplot at 0x1cabba0e688>"
      ]
     },
     "execution_count": 31,
     "metadata": {},
     "output_type": "execute_result"
    },
    {
     "data": {
      "image/png": "[encoded data removed]",
      "text/plain": [
       "<Figure size 432x288 with 1 Axes>"
      ]
     },
     "metadata": {
      "needs_background": "light"
     },
     "output_type": "display_data"
    }
   ],
   "source": [
    "filtGarFC['porctFC'].hist(bins = 100)"
   ]
  },
  {
   "cell_type": "markdown",
   "metadata": {},
   "source": [
    "Vemos dos peaks en 5% y 10%, sin embargo la [directiva 7](https://www.mercadopublico.cl/portal/mp2/descargables/Directiva_N_7_Garantias.pdf) dice que puede ser entre 5% y 30%."
   ]
  },
  {
   "cell_type": "markdown",
   "metadata": {},
   "source": [
    "#### Otras garantías"
   ]
  },
  {
   "cell_type": "code",
   "execution_count": 33,
   "metadata": {},
   "outputs": [],
   "source": [
    "# Apertura la conexión a SQL SERVER\n",
    "cnxn = pyodbc.connect('DRIVER={ODBC Driver 17 for SQL Server};SERVER='+server+';DATABASE='+db+';UID='+user+';PWD='+passw)\n",
    "\n",
    "# Envío de las querys y lectura de los resultados\n",
    "\n",
    "# otras garantías\n",
    "sqlOtros = '''SELECT a.rbhCode,   \n",
    "CASE b.rgaAmountType \n",
    "WHEN '1' THEN b.rgaAmount\n",
    "WHEN '0' THEN (Case when a.rbhEstimatedAwardAmount=0 then null else b.rgaAmount/a.rbhEstimatedAwardAmount*100 end)\n",
    "ELSE 0\n",
    "END as porctOtros\n",
    "FROM DCCPProcurement.dbo.prcRFBHeader a\n",
    "LEFT JOIN DCCPProcurement.dbo.prcRFBGuarantee b ON a.rbhCode = b.rgaRFBCode\n",
    "LEFT JOIN DCCPProcurement.dbo.prcRFBDate c on a.rbhCode = c.rbdRFBCode\n",
    "WHERE YEAR(c.rbdOpeningDate) > 2013\n",
    "AND YEAR(c.rbdOpeningDate) < 2020\n",
    "AND a.rbhOwnerName != 'Dirección de Compras y Contratación  Pública' \n",
    "AND a.rbhProcessSubType in (1, 2, 3, 23, 24, 25,  30) \n",
    "AND a.rbhDocumentStatus in (8,9,10, 7, 15, 16)\n",
    "AND a.rbhProcessType = 1\n",
    "AND b.rgaGuaranteeType not in (1,2)\n",
    "AND b.rgaIsBasis = 1\n",
    "ORDER by b.rgaAmount'''\n",
    "\n",
    "garOtros = pd.read_sql(sqlOtros,cnxn)\n",
    "\n",
    "# Cerramos la conexión\n",
    "cnxn.close()"
   ]
  },
  {
   "cell_type": "code",
   "execution_count": 37,
   "metadata": {},
   "outputs": [
    {
     "data": {
      "text/plain": [
       "<matplotlib.axes._subplots.AxesSubplot at 0x1cabbaeb488>"
      ]
     },
     "execution_count": 37,
     "metadata": {},
     "output_type": "execute_result"
    },
    {
     "data": {
      "image/png": "[encoded data removed]",
      "text/plain": [
       "<Figure size 432x288 with 1 Axes>"
      ]
     },
     "metadata": {
      "needs_background": "light"
     },
     "output_type": "display_data"
    }
   ],
   "source": [
    "garOtros['porctOtros'].hist()"
   ]
  },
  {
   "cell_type": "code",
   "execution_count": 38,
   "metadata": {},
   "outputs": [
    {
     "name": "stdout",
     "output_type": "stream",
     "text": [
      "mean      1.307025e+05\n",
      "median    5.000000e+00\n",
      "max       2.400000e+09\n",
      "Name: porctOtros, dtype: float64\n",
      "41115\n"
     ]
    }
   ],
   "source": [
    "print(garOtros['porctOtros'].agg(['mean', 'median', 'max']).astype(float))\n",
    "filtGarOtros = garOtros[garOtros['porctOtros'] <= 100]\n",
    "print(len(filtGarOtros))"
   ]
  },
  {
   "cell_type": "code",
   "execution_count": 40,
   "metadata": {},
   "outputs": [
    {
     "data": {
      "text/plain": [
       "<matplotlib.axes._subplots.AxesSubplot at 0x1cabcb91948>"
      ]
     },
     "execution_count": 40,
     "metadata": {},
     "output_type": "execute_result"
    },
    {
     "data": {
      "image/png": "[encoded data removed]",
      "text/plain": [
       "<Figure size 432x288 with 1 Axes>"
      ]
     },
     "metadata": {
      "needs_background": "light"
     },
     "output_type": "display_data"
    }
   ],
   "source": [
    "filtGarOtros['porctOtros'].hist(bins = 100)"
   ]
  },
  {
   "cell_type": "markdown",
   "metadata": {},
   "source": [
    "Vemos dos peaks en 5% y 10%, sin embargo la [directiva 7](https://www.mercadopublico.cl/portal/mp2/descargables/Directiva_N_7_Garantias.pdf)  no dice nada respecto a estas garantías, por lo que se deja en > que 10"
   ]
  },
  {
   "cell_type": "markdown",
   "metadata": {},
   "source": [
    "**Respecto a la cola izquierda, dejaremos porcentajes muy bajos para que sean realmente significativos**"
   ]
  },
  {
   "cell_type": "markdown",
   "metadata": {},
   "source": [
    "### Redflag: Todas las ofertas son demasiado bajas"
   ]
  },
  {
   "cell_type": "code",
   "execution_count": 52,
   "metadata": {},
   "outputs": [],
   "source": [
    "# Apertura la conexión a SQL SERVER\n",
    "cnxn = pyodbc.connect('DRIVER={ODBC Driver 17 for SQL Server};SERVER='+server+';DATABASE='+db+';UID='+user+';PWD='+passw)\n",
    "\n",
    "# Envío de las querys y lectura de los resultados\n",
    "\n",
    "# Descarga de datos de licitaciones con contador de  las ofertas que son menores que el 10% que el monto disponible \n",
    "sqlOfertasBajas = '''SELECT a.rbhCode ,b.bidOrganization, case a.rbhEstimatedAmount WHEN 0 then sum(c.bitUnitNetPrice * c.bitQuantity) else sum(c.bitUnitNetPrice * c.bitQuantity) / a.rbhEstimatedAmount end as porc\n",
    "FROM DCCPProcurement.dbo.prcRFBHeader a \n",
    "LEFT JOIN DCCPProcurement.dbo.prcBIDQuote b ON a.rbhCode = b.bidRFBCode\n",
    "LEFT JOIN DCCPProcurement.dbo.prcBIDItem c ON b.bidID = c.bitBID\n",
    "LEFT JOIN DCCPProcurement.dbo.prcRFBDate d on a.rbhCode = d.rbdRFBCode\n",
    "WHERE YEAR(d.rbdOpeningDate) > 2013\n",
    "and YEAR(d.rbdOpeningDate) < 2020\n",
    "AND a.rbhOwnerName != 'Dirección de Compras y Contratación  Pública' \n",
    "AND a.rbhProcessSubType in (1, 2, 3, 23, 24, 25,  30) \n",
    "AND a.rbhDocumentStatus in (8,9,10, 7, 15, 16)\n",
    "AND a.rbhProcessType = 1\n",
    "and c.bitUnitNetPrice > 1\n",
    "AND a.rbhCurrency = c.bitCurrency\n",
    "GROUP BY a.rbhCode, a.rbhEstimatedAmount ,b.bidOrganization  \n",
    "order BY a.rbhCode '''\n",
    "\n",
    "ofertasBajas = pd.read_sql(sqlOfertasBajas, cnxn)\n",
    "\n",
    "# Cerramos la conexión\n",
    "cnxn.close()"
   ]
  },
  {
   "cell_type": "code",
   "execution_count": 55,
   "metadata": {},
   "outputs": [
    {
     "data": {
      "text/plain": [
       "<matplotlib.axes._subplots.AxesSubplot at 0x1cabeb48a08>"
      ]
     },
     "execution_count": 55,
     "metadata": {},
     "output_type": "execute_result"
    },
    {
     "data": {
      "image/png": "[encoded data removed]",
      "text/plain": [
       "<Figure size 432x288 with 1 Axes>"
      ]
     },
     "metadata": {
      "needs_background": "light"
     },
     "output_type": "display_data"
    }
   ],
   "source": [
    "ofertasBajas['porc'].hist()"
   ]
  },
  {
   "cell_type": "code",
   "execution_count": 82,
   "metadata": {},
   "outputs": [
    {
     "name": "stdout",
     "output_type": "stream",
     "text": [
      "mean      4.494398e+14\n",
      "median    6.961945e-01\n",
      "max       2.468909e+21\n",
      "Name: porc, dtype: float64\n",
      "0.1842088888888889\n",
      "5962560\n",
      "1544397\n"
     ]
    }
   ],
   "source": [
    "print(ofertasBajas['porc'].agg(['mean', 'median', 'max']).astype(float))\n",
    "print(ofertasBajas['porc'].quantile(.25))\n",
    "filtofertasBajas = ofertasBajas[ofertasBajas['porc'] <= 0.2]\n",
    "print(len(ofertasBajas))\n",
    "print(len(filtofertasBajas))"
   ]
  },
  {
   "cell_type": "code",
   "execution_count": 78,
   "metadata": {},
   "outputs": [
    {
     "data": {
      "text/plain": [
       "<matplotlib.axes._subplots.AxesSubplot at 0x1cacb55d508>"
      ]
     },
     "execution_count": 78,
     "metadata": {},
     "output_type": "execute_result"
    },
    {
     "data": {
      "image/png": "[encoded data removed]",
      "text/plain": [
       "<Figure size 432x288 with 1 Axes>"
      ]
     },
     "metadata": {
      "needs_background": "light"
     },
     "output_type": "display_data"
    }
   ],
   "source": [
    "filtofertasBajas['porc'].hist()"
   ]
  },
  {
   "cell_type": "markdown",
   "metadata": {},
   "source": [
    "vemos que el 0,2 es un valor que podría ser un buen inicio ya que está muy cercano al primer cuartil"
   ]
  },
  {
   "cell_type": "markdown",
   "metadata": {},
   "source": [
    "### Porcentaje reclamos por irregularidad sin respuesta"
   ]
  },
  {
   "cell_type": "code",
   "execution_count": 83,
   "metadata": {},
   "outputs": [],
   "source": [
    "# Apertura la conexión a SQL SERVER\n",
    "cnxn = pyodbc.connect('DRIVER={ODBC Driver 17 for SQL Server};SERVER='+server+';DATABASE='+db+';UID='+user+';PWD='+passw)\n",
    "\n",
    "# Envío de las querys y lectura de los resultados\n",
    "\n",
    "# Descarga de datos de porcentajes de respuesta a los reclamos\n",
    "sqlPorcRespRecla = '''SELECT a.rbhCode, CONVERT(FLOAT, COUNT(b.RespuestaOOPP))/CONVERT(FLOAT, COUNT(b.idReclamo))*100 as porcReclamosIregularidad \n",
    "FROM DCCPProcurement.dbo.prcRFBHeader a\n",
    "LEFT JOIN DCCPReclamos.dbo.Reclamo b ON a.rbhExternalCode = b.NumLicOC\n",
    "LEFT JOIN DCCPProcurement.dbo.prcRFBDate d ON a.rbhCode = d.rbdRFBCode\n",
    "WHERE YEAR(d.rbdOpeningDate) > 2013\n",
    "and YEAR(d.rbdOpeningDate) < 2020\n",
    "AND b.idMotivoReclamo != 1\n",
    "AND b.idMotivoReclamo != 18\n",
    "AND a.rbhOwnerName != 'Dirección de Compras y Contratación  Pública' \n",
    "AND a.rbhProcessSubType in (1, 2, 3, 23, 24, 25,  30) \n",
    "AND a.rbhDocumentStatus in (8,9,10, 7, 15, 16)\n",
    "AND a.rbhProcessType = 1 \n",
    "GROUP BY a.rbhCode, a.rbhExternalCode'''\n",
    "\n",
    "\n",
    "porcRespRecla = pd.read_sql(sqlPorcRespRecla, cnxn)\n",
    "\n",
    "\n",
    "# Cerramos la conexión\n",
    "cnxn.close()\n"
   ]
  },
  {
   "cell_type": "code",
   "execution_count": 86,
   "metadata": {},
   "outputs": [
    {
     "data": {
      "text/plain": [
       "<matplotlib.axes._subplots.AxesSubplot at 0x1cac20d1a88>"
      ]
     },
     "execution_count": 86,
     "metadata": {},
     "output_type": "execute_result"
    },
    {
     "data": {
      "image/png": "[encoded data removed]",
      "text/plain": [
       "<Figure size 432x288 with 1 Axes>"
      ]
     },
     "metadata": {
      "needs_background": "light"
     },
     "output_type": "display_data"
    }
   ],
   "source": [
    "porcRespRecla['porcReclamosIregularidad'].hist()"
   ]
  },
  {
   "cell_type": "markdown",
   "metadata": {},
   "source": [
    "vemos que casi todos están entre un 90 y un 100 así que haremos zoom en ese sector\n",
    "\n"
   ]
  },
  {
   "cell_type": "code",
   "execution_count": 88,
   "metadata": {},
   "outputs": [],
   "source": [
    "filtroPR = porcRespRecla[porcRespRecla['porcReclamosIregularidad'] > 89]"
   ]
  },
  {
   "cell_type": "code",
   "execution_count": 89,
   "metadata": {},
   "outputs": [
    {
     "data": {
      "text/plain": [
       "array([[<matplotlib.axes._subplots.AxesSubplot object at 0x000001CACD19CFC8>,\n",
       "        <matplotlib.axes._subplots.AxesSubplot object at 0x000001CAC5456DC8>]],\n",
       "      dtype=object)"
      ]
     },
     "execution_count": 89,
     "metadata": {},
     "output_type": "execute_result"
    },
    {
     "data": {
      "image/png": "[encoded data removed]",
      "text/plain": [
       "<Figure size 432x288 with 2 Axes>"
      ]
     },
     "metadata": {
      "needs_background": "light"
     },
     "output_type": "display_data"
    }
   ],
   "source": [
    "filtroPR.hist()"
   ]
  },
  {
   "cell_type": "markdown",
   "metadata": {},
   "source": [
    "vemos que se trata de un 100% el protagonista, por lo que lo fijaremos en menor que 90 para dar una holgura"
   ]
  },
  {
   "cell_type": "markdown",
   "metadata": {},
   "source": [
    "### Redflag: Ratio días de publicación preguntas"
   ]
  },
  {
   "cell_type": "code",
   "execution_count": 90,
   "metadata": {},
   "outputs": [],
   "source": [
    "# Apertura la conexión a SQL SERVER\n",
    "cnxn = pyodbc.connect('DRIVER={ODBC Driver 17 for SQL Server};SERVER='+server+';DATABASE='+db+';UID='+user+';PWD='+passw)\n",
    "\n",
    "# Descarga de datos de porcentajes de dias para preguntas versus el total publicado\n",
    "sqlPorcPlazoRespuesta = '''SELECT rbhCode, \n",
    "(Convert(Float,((DATEDIFF(day, b.rbdQuestionOpening, b.rbdQuestionClose)))))/nullif((CONVERT(FLOAT,((DATEDIFF(day, b.rbdOpeningDate, b.rbdTechnicalBidReception))))),0) *100 as porc\n",
    "FROM DCCPProcurement.dbo.prcRFBHeader a\n",
    "LEFT JOIN DCCPProcurement.dbo.prcRFBDate b ON a.rbhCode = b.rbdRFBCode\n",
    "WHERE YEAR(b.rbdOpeningDate) > 2013\n",
    "and YEAR(b.rbdOpeningDate) < 2020\n",
    "AND a.rbhOwnerName != 'Dirección de Compras y Contratación  Pública' \n",
    "AND a.rbhProcessSubType in (1, 2, 3, 23, 24, 25,  30) \n",
    "AND a.rbhDocumentStatus in (8,9,10, 7, 15, 16)\n",
    "AND a.rbhProcessType = 1'''\n",
    "\n",
    "\n",
    "porcPlazoRespuesta = pd.read_sql(sqlPorcPlazoRespuesta, cnxn)\n",
    "\n",
    "\n",
    "# Cerramos la conexión\n",
    "cnxn.close()"
   ]
  },
  {
   "cell_type": "code",
   "execution_count": 92,
   "metadata": {},
   "outputs": [
    {
     "data": {
      "text/plain": [
       "array([[<matplotlib.axes._subplots.AxesSubplot object at 0x000001CAC75159C8>,\n",
       "        <matplotlib.axes._subplots.AxesSubplot object at 0x000001CAC9CEC3C8>]],\n",
       "      dtype=object)"
      ]
     },
     "execution_count": 92,
     "metadata": {},
     "output_type": "execute_result"
    },
    {
     "data": {
      "image/png": "[encoded data removed]",
      "text/plain": [
       "<Figure size 432x288 with 2 Axes>"
      ]
     },
     "metadata": {
      "needs_background": "light"
     },
     "output_type": "display_data"
    }
   ],
   "source": [
    "porcPlazoRespuesta.hist()"
   ]
  },
  {
   "cell_type": "code",
   "execution_count": 94,
   "metadata": {},
   "outputs": [
    {
     "name": "stdout",
     "output_type": "stream",
     "text": [
      "mean       40.448139\n",
      "median     42.857143\n",
      "max       100.000000\n",
      "Name: porc, dtype: float64\n",
      "28.57142857142857\n"
     ]
    }
   ],
   "source": [
    "print(porcPlazoRespuesta['porc'].agg(['mean', 'median', 'max']).astype(float))\n",
    "print(porcPlazoRespuesta['porc'].quantile(.25))"
   ]
  },
  {
   "cell_type": "markdown",
   "metadata": {},
   "source": [
    "En este caso es más compleja la definición ya que nos enfrentamos a la necesidad de establecer un equilibrio entre las características propias de los datos, y lo que esperamos que ocurra, en este caso nos gustaría que tuviera al menos un 50% de ratio, sin embargo los datos dicen que en promedio se responde se tiene un ratio de 40% y que el 50% de las licitaciones tienen un 42% de ratio o menos.\n",
    "En vista de esto, definimos como base que hayan al menos un 30% de ratio para que no sea un red flag, si es inferor, entonces se marca como redflag, esta efinición enbase a que el primer cuartil se encuenytra cercano a esa definición"
   ]
  },
  {
   "cell_type": "markdown",
   "metadata": {},
   "source": [
    "### Redflag: Ratio reclamos irregularidad de ofertas"
   ]
  },
  {
   "cell_type": "code",
   "execution_count": 95,
   "metadata": {},
   "outputs": [],
   "source": [
    "# Apertura la conexión a SQL SERVER\n",
    "cnxn = pyodbc.connect('DRIVER={ODBC Driver 17 for SQL Server};SERVER='+server+';DATABASE='+db+';UID='+user+';PWD='+passw)\n",
    "\n",
    "# Envío de las querys y lectura de los resultados\n",
    "\n",
    "# Descarga de datos de cantidad de ofertas por licitación \n",
    "sqlQOfertas = '''SELECT a.rbhCode, (CONVERT(FLOAT,(COUNT(b.bidID)))) AS 'TotalOfertas'\n",
    "FROM DCCPProcurement.dbo.prcRFBHeader a\n",
    "LEFT JOIN DCCPProcurement.dbo.prcBIDQuote b ON a.rbhCode = b.bidRFBCode\n",
    "LEFT JOIN DCCPReclamos.dbo.Reclamo c ON a.rbhExternalCode = c.numLicOC\n",
    "LEFT JOIN DCCPProcurement.dbo.prcRFBDate d ON a.rbhCode = d.rbdRFBCode\n",
    "WHERE YEAR(d.rbdOpeningDate) > 2013\n",
    "and YEAR(d.rbdOpeningDate) < 2020\n",
    "AND a.rbhOwnerName != 'Dirección de Compras y Contratación  Pública' \n",
    "AND a.rbhProcessSubType in (1, 2, 3, 23, 24, 25,  30) \n",
    "AND a.rbhDocumentStatus in (8,9,10, 7, 15, 16)\n",
    "AND a.rbhProcessType = 1 \n",
    "GROUP BY a.rbhcode'''\n",
    "\n",
    "# Descarga de datos de cantidad de reclamos por irregularidad\n",
    "sqlQReclamos = '''SELECT a.rbhCode, (CONVERT(FLOAT,(COUNT(DISTINCT c.idReclamo)))) AS 'ReclamosIrregularidad'\n",
    "FROM DCCPProcurement.dbo.prcRFBHeader a\n",
    "LEFT JOIN DCCPProcurement.dbo.prcBIDQuote b ON a.rbhCode = b.bidRFBCode\n",
    "LEFT JOIN DCCPReclamos.dbo.Reclamo c ON a.rbhExternalCode = c.numLicOC \n",
    "LEFT JOIN DCCPProcurement.dbo.prcRFBDate d ON a.rbhCode = d.rbdRFBCode\n",
    "WHERE YEAR(d.rbdOpeningDate) > 2013\n",
    "and YEAR(d.rbdOpeningDate) < 2020\n",
    "AND a.rbhOwnerName != 'Dirección de Compras y Contratación  Pública' \n",
    "AND a.rbhProcessSubType in (1, 2, 3, 23, 24, 25,  30) \n",
    "AND a.rbhDocumentStatus in (8,9,10, 7, 15, 16)\n",
    "AND c.idMotivoReclamo != 1\n",
    "AND c.idMotivoReclamo != 18\n",
    "AND a.rbhProcessType = 1\n",
    "GROUP BY a.rbhcode'''\n",
    "\n",
    "QOfertas = pd.read_sql(sqlQOfertas, cnxn)\n",
    "QReclamos = pd.read_sql(sqlQReclamos, cnxn)\n",
    "\n",
    "\n",
    "# Cerramos la conexión\n",
    "cnxn.close()\n",
    "\n",
    "# unimos los dataframes que tienen los datos del indicador\n",
    "tempRatRecl = QOfertas.merge(QReclamos, how='left')\n",
    "\n",
    "# Reemplazamos los valores nulos por ceros\n",
    "tempRatRecl.loc[tempRatRecl['ReclamosIrregularidad'].isnull(), 'ReclamosIrregularidad'] = 0\n",
    "tempRatRecl.loc[tempRatRecl['TotalOfertas']== 0, 'TotalOfertas'] = 1\n",
    "\n",
    "# Calculamos el indicador\n",
    "tempRatRecl['ratioReclamosIrregularidad'] = tempRatRecl['ReclamosIrregularidad']/tempRatRecl['TotalOfertas']"
   ]
  },
  {
   "cell_type": "code",
   "execution_count": 102,
   "metadata": {},
   "outputs": [
    {
     "data": {
      "text/plain": [
       "array([[<matplotlib.axes._subplots.AxesSubplot object at 0x000001CAD2C90A88>]],\n",
       "      dtype=object)"
      ]
     },
     "execution_count": 102,
     "metadata": {},
     "output_type": "execute_result"
    },
    {
     "data": {
      "image/png": "[encoded data removed]",
      "text/plain": [
       "<Figure size 432x288 with 1 Axes>"
      ]
     },
     "metadata": {
      "needs_background": "light"
     },
     "output_type": "display_data"
    }
   ],
   "source": [
    "tempRatRecl = tempRatRecl[['ratioReclamosIrregularidad']]\n",
    "tempRatRecl.hist()"
   ]
  },
  {
   "cell_type": "markdown",
   "metadata": {},
   "source": [
    "la mayoría esta entre cero y uno con expción de algunos outlier"
   ]
  },
  {
   "cell_type": "code",
   "execution_count": 116,
   "metadata": {},
   "outputs": [],
   "source": [
    "filtroRR = tempRatRecl[tempRatRecl['ratioReclamosIrregularidad'] > 0]\n",
    "filtroRR = filtroRR[filtroRR['ratioReclamosIrregularidad'] < 1]"
   ]
  },
  {
   "cell_type": "code",
   "execution_count": 117,
   "metadata": {},
   "outputs": [
    {
     "data": {
      "text/plain": [
       "array([[<matplotlib.axes._subplots.AxesSubplot object at 0x000001CAD2D2DB08>]],\n",
       "      dtype=object)"
      ]
     },
     "execution_count": 117,
     "metadata": {},
     "output_type": "execute_result"
    },
    {
     "data": {
      "image/png": "[encoded data removed]",
      "text/plain": [
       "<Figure size 432x288 with 1 Axes>"
      ]
     },
     "metadata": {
      "needs_background": "light"
     },
     "output_type": "display_data"
    }
   ],
   "source": [
    "filtroRR.hist()"
   ]
  },
  {
   "cell_type": "code",
   "execution_count": 123,
   "metadata": {},
   "outputs": [
    {
     "name": "stdout",
     "output_type": "stream",
     "text": [
      "mean      0.227661\n",
      "median    0.200000\n",
      "max       0.857143\n",
      "Name: ratioReclamosIrregularidad, dtype: float64\n",
      "0.1111111111111111\n",
      "68087\n"
     ]
    }
   ],
   "source": [
    "print(filtroRR['ratioReclamosIrregularidad'].agg(['mean', 'median', 'max']).astype(float))\n",
    "print(filtroRR['ratioReclamosIrregularidad'].quantile(.25))\n",
    "print(len(filtroRR))"
   ]
  },
  {
   "cell_type": "markdown",
   "metadata": {},
   "source": [
    "definimos como umbral el valor 0.1 que es cercano al valor del primer cuartil de la base filtrada"
   ]
  },
  {
   "cell_type": "markdown",
   "metadata": {},
   "source": [
    "### Redflag: Ratio reclamos pago ofertas"
   ]
  },
  {
   "cell_type": "code",
   "execution_count": 128,
   "metadata": {},
   "outputs": [],
   "source": [
    "# Apertura la conexión a SQL SERVER\n",
    "cnxn = pyodbc.connect('DRIVER={ODBC Driver 17 for SQL Server};SERVER='+server+';DATABASE='+db+';UID='+user+';PWD='+passw)\n",
    "\n",
    "# Envío de las querys y lectura de los resultados\n",
    "\n",
    "# Descarga de datos de cantidad de ofertas por licitación \n",
    "sqlQOfertas = '''SELECT a.rbhCode, (CONVERT(FLOAT,(COUNT(b.bidID)))) AS 'TotalOfertas'\n",
    "FROM DCCPProcurement.dbo.prcRFBHeader a\n",
    "LEFT JOIN DCCPProcurement.dbo.prcBIDQuote b ON a.rbhCode = b.bidRFBCode\n",
    "LEFT JOIN DCCPReclamos.dbo.Reclamo c ON a.rbhExternalCode = c.numLicOC\n",
    "LEFT JOIN DCCPProcurement.dbo.prcRFBDate d ON a.rbhCode = d.rbdRFBCode\n",
    "WHERE YEAR(d.rbdOpeningDate) > 2013\n",
    "and YEAR(d.rbdOpeningDate) < 2020\n",
    "AND a.rbhOwnerName != 'Dirección de Compras y Contratación  Pública' \n",
    "AND a.rbhProcessSubType in (1, 2, 3, 23, 24, 25,  30) \n",
    "AND a.rbhDocumentStatus in (8,9,10, 7, 15, 16)\n",
    "AND a.rbhProcessType = 1 \n",
    "GROUP BY a.rbhcode'''\n",
    "\n",
    "# Descarga de datos de cantidad de reclamos por pagos\n",
    "sqlQReclamos = '''SELECT a.rbhCode, (CONVERT(FLOAT,(COUNT(DISTINCT c.idReclamo)))) AS 'ReclamosPago'\n",
    "FROM DCCPProcurement.dbo.prcRFBHeader a\n",
    "LEFT JOIN DCCPProcurement.dbo.prcBIDQuote b ON a.rbhCode = b.bidRFBCode\n",
    "LEFT JOIN DCCPReclamos.dbo.Reclamo c ON a.rbhExternalCode = c.numLicOC \n",
    "LEFT JOIN DCCPProcurement.dbo.prcRFBDate d ON a.rbhCode = d.rbdRFBCode\n",
    "WHERE YEAR(d.rbdOpeningDate) > 2013\n",
    "and YEAR(d.rbdOpeningDate) < 2020\n",
    "AND a.rbhOwnerName != 'Dirección de Compras y Contratación  Pública' \n",
    "AND a.rbhProcessSubType in (1, 2, 3, 23, 24, 25,  30) \n",
    "AND a.rbhDocumentStatus in (8,9,10, 7, 15, 16)\n",
    "AND (c.idMotivoReclamo = 1 or c.idMotivoReclamo = 18)\n",
    "AND a.rbhProcessType = 1\n",
    "GROUP BY a.rbhcode'''\n",
    "\n",
    "QOfertas = pd.read_sql(sqlQOfertas, cnxn)\n",
    "QReclamos = pd.read_sql(sqlQReclamos, cnxn)\n",
    "\n",
    "\n",
    "# Cerramos la conexión\n",
    "cnxn.close()\n",
    "\n",
    "# unimos los dataframes que tienen los datos del indicador\n",
    "tempRatRecl = QOfertas.merge(QReclamos, how='left')\n",
    "\n",
    "# Reemplazamos los valores nulos por ceros\n",
    "tempRatRecl.loc[tempRatRecl['ReclamosPago'].isnull(), 'ReclamosPago'] = 0\n",
    "tempRatRecl.loc[tempRatRecl['TotalOfertas']== 0, 'TotalOfertas'] = 1\n",
    "\n",
    "# Calculamos el indicador\n",
    "tempRatRecl['ratioReclamosPago'] = tempRatRecl['ReclamosPago']/tempRatRecl['TotalOfertas'] * 100"
   ]
  },
  {
   "cell_type": "code",
   "execution_count": 129,
   "metadata": {},
   "outputs": [
    {
     "data": {
      "text/plain": [
       "<matplotlib.axes._subplots.AxesSubplot at 0x1cad0ffd648>"
      ]
     },
     "execution_count": 129,
     "metadata": {},
     "output_type": "execute_result"
    },
    {
     "data": {
      "image/png": "[encoded data removed]",
      "text/plain": [
       "<Figure size 432x288 with 1 Axes>"
      ]
     },
     "metadata": {
      "needs_background": "light"
     },
     "output_type": "display_data"
    }
   ],
   "source": [
    "tempRatRecl['ratioReclamosPago'].hist()"
   ]
  },
  {
   "cell_type": "code",
   "execution_count": 130,
   "metadata": {},
   "outputs": [
    {
     "name": "stdout",
     "output_type": "stream",
     "text": [
      "mean        0.163155\n",
      "median      0.000000\n",
      "max       200.000000\n",
      "Name: ratioReclamosPago, dtype: float64\n",
      "0.0\n",
      "1164488\n"
     ]
    }
   ],
   "source": [
    "print(tempRatRecl['ratioReclamosPago'].agg(['mean', 'median', 'max']).astype(float))\n",
    "print(tempRatRecl['ratioReclamosPago'].quantile(.25))\n",
    "print(len(tempRatRecl))"
   ]
  },
  {
   "cell_type": "code",
   "execution_count": 134,
   "metadata": {},
   "outputs": [
    {
     "name": "stdout",
     "output_type": "stream",
     "text": [
      "7113\n"
     ]
    },
    {
     "data": {
      "text/plain": [
       "<matplotlib.axes._subplots.AxesSubplot at 0x1cacd881fc8>"
      ]
     },
     "execution_count": 134,
     "metadata": {},
     "output_type": "execute_result"
    },
    {
     "data": {
      "image/png": "[encoded data removed]",
      "text/plain": [
       "<Figure size 432x288 with 1 Axes>"
      ]
     },
     "metadata": {
      "needs_background": "light"
     },
     "output_type": "display_data"
    }
   ],
   "source": [
    "filtroRP = tempRatRecl[tempRatRecl['ratioReclamosPago'] > 0]\n",
    "filtroRP = filtroRP[filtroRP['ratioReclamosPago'] < 100]\n",
    "print(len(filtroRP))\n",
    "filtroRP['ratioReclamosPago'].hist()"
   ]
  },
  {
   "cell_type": "code",
   "execution_count": 136,
   "metadata": {},
   "outputs": [
    {
     "name": "stdout",
     "output_type": "stream",
     "text": [
      "6.25\n"
     ]
    }
   ],
   "source": [
    "print(filtroRP['ratioReclamosPago'].quantile(.25))"
   ]
  },
  {
   "cell_type": "markdown",
   "metadata": {},
   "source": [
    "como vemos el primer cuartil tiene como valor 6,25, para este caso dejaremos como máximo ratio 5, sobre eso lo consideraremos  red flag"
   ]
  },
  {
   "cell_type": "markdown",
   "metadata": {},
   "source": [
    "### Decision period for submitted bids excessively short"
   ]
  },
  {
   "cell_type": "code",
   "execution_count": null,
   "metadata": {},
   "outputs": [],
   "source": [
    "# Apertura la conexión a SQL SERVER\n",
    "cnxn = pyodbc.connect('DRIVER={ODBC Driver 17 for SQL Server};SERVER='+server+';DATABASE='+db+';UID='+user+';PWD='+passw)\n",
    "\n",
    "# Envío de las querys y lectura de los resultados\n",
    "\n",
    "# Descarga de datos de licitaciones con indicador de si los plazos de la decision de licitación es muy corto \n",
    "sqlPlazoDecCorto = '''SELECT a.rbhCode,\n",
    "(DATEDIFF(HOUR, b.rbdTechnicalBidOpening, b.rbdAwardDate)) AS plazoDecisionCorto\n",
    "FROM DCCPProcurement.dbo.prcRFBHeader a\n",
    "LEFT JOIN DCCPProcurement.dbo.prcRFBDate b ON a.rbhcode = b.rbdRFBCode \n",
    "WHERE YEAR(b.rbdOpeningDate) >= 2014\n",
    "and YEAR(b.rbdOpeningDate) < 2020\n",
    "AND a.rbhOwnerName != 'Dirección de Compras y Contratación  Pública' \n",
    "AND a.rbhProcessSubType in (1, 2, 3, 23, 24, 25,  30) \n",
    "AND a.rbhDocumentStatus in (8,9,10, 7, 15, 16)\n",
    "AND a.rbhProcessType = 1'''\n",
    "\n",
    "plazoDecCorto = pd.read_sql(sqlPlazoDecCorto, cnxn)\n",
    "\n",
    "\n",
    "# Cerramos la conexión\n",
    "cnxn.close()\n",
    "\n",
    "# regulariazamos el indicador\n",
    "#plazoDecCorto.loc[plazoDecCorto['plazoDecisionCorto'].isnull(), 'plazoDecisionCorto'] = 0"
   ]
  },
  {
   "cell_type": "code",
   "execution_count": 2,
   "metadata": {},
   "outputs": [
    {
     "data": {
      "text/plain": [
       "array([[<matplotlib.axes._subplots.AxesSubplot object at 0x0000026F090FF588>,\n",
       "        <matplotlib.axes._subplots.AxesSubplot object at 0x0000026F09AACA88>]],\n",
       "      dtype=object)"
      ]
     },
     "execution_count": 2,
     "metadata": {},
     "output_type": "execute_result"
    },
    {
     "data": {
      "image/png": "[encoded data removed]",
      "text/plain": [
       "<Figure size 432x288 with 2 Axes>"
      ]
     },
     "metadata": {
      "needs_background": "light"
     },
     "output_type": "display_data"
    }
   ],
   "source": [
    "plazoDecCorto.hist()"
   ]
  },
  {
   "cell_type": "code",
   "execution_count": 8,
   "metadata": {},
   "outputs": [
    {
     "name": "stdout",
     "output_type": "stream",
     "text": [
      "mean        550.018775\n",
      "median      318.000000\n",
      "max       49462.000000\n",
      "Name: plazoDecisionCorto, dtype: float64\n",
      "52.0\n",
      "1164520\n"
     ]
    }
   ],
   "source": [
    "print(plazoDecCorto['plazoDecisionCorto'].agg(['mean', 'median', 'max']).astype(float))\n",
    "print(plazoDecCorto['plazoDecisionCorto'].quantile(.1))\n",
    "print(len(plazoDecCorto))"
   ]
  },
  {
   "cell_type": "code",
   "execution_count": 12,
   "metadata": {},
   "outputs": [
    {
     "name": "stdout",
     "output_type": "stream",
     "text": [
      "105680\n"
     ]
    },
    {
     "data": {
      "text/plain": [
       "<matplotlib.axes._subplots.AxesSubplot at 0x26f09d8c908>"
      ]
     },
     "execution_count": 12,
     "metadata": {},
     "output_type": "execute_result"
    },
    {
     "data": {
      "image/png": "[encoded data removed]",
      "text/plain": [
       "<Figure size 432x288 with 1 Axes>"
      ]
     },
     "metadata": {
      "needs_background": "light"
     },
     "output_type": "display_data"
    }
   ],
   "source": [
    "filtroPDC = plazoDecCorto[plazoDecCorto['plazoDecisionCorto'] > 0]\n",
    "filtroPDC = filtroPDC[filtroPDC['plazoDecisionCorto'] < 52.0]\n",
    "print(len(filtroPDC))\n",
    "filtroPDC['plazoDecisionCorto'].hist()"
   ]
  },
  {
   "cell_type": "markdown",
   "metadata": {},
   "source": [
    "vemos que el 10th percentil tiene contiene a 105680 elementos y esos corresponden al valor 52 días, dado que ese contiene muchos elementos, vamos a dejar como corte el primer corte de los plazos que se aprecia en gráfico, que sería 10 días"
   ]
  }
 ],
 "metadata": {
  "kernelspec": {
   "display_name": "Python 3",
   "language": "python",
   "name": "python3"
  },
  "language_info": {
   "codemirror_mode": {
    "name": "ipython",
    "version": 3
   },
   "file_extension": ".py",
   "mimetype": "text/x-python",
   "name": "python",
   "nbconvert_exporter": "python",
   "pygments_lexer": "ipython3",
   "version": "3.7.6"
  }
 },
 "nbformat": 4,
 "nbformat_minor": 4
}
